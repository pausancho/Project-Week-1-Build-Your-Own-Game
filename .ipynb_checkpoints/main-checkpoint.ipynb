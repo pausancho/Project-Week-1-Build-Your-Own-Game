{
 "cells": [
  {
   "cell_type": "markdown",
   "metadata": {},
   "source": [
    "# Password Protection Software"
   ]
  },
  {
   "cell_type": "markdown",
   "metadata": {},
   "source": [
    "### Welcome to the most secure and trusted password generator software in the world. "
   ]
  },
  {
   "cell_type": "code",
   "execution_count": 124,
   "metadata": {},
   "outputs": [],
   "source": [
    "import random\n",
    "import time"
   ]
  },
  {
   "cell_type": "code",
   "execution_count": 125,
   "metadata": {},
   "outputs": [],
   "source": [
    "encryption= \"abcdefghijklmnopqrstuvwxyzABCDEFGHIJKLMNOPQRSTUVWXYZ123456789@#$%&?¿\""
   ]
  },
  {
   "cell_type": "code",
   "execution_count": 134,
   "metadata": {},
   "outputs": [],
   "source": [
    "def first_question():\n",
    "   \n",
    "    while True:\n",
    "        password_question = input(\"Do you need a password? Yes/No: \\n\\n\").lower()\n",
    "        print()\n",
    "        try:\n",
    "            if password_question == \"yes\":\n",
    "                global p_len\n",
    "                global n_passwords\n",
    "                p_len = int(input(\"What lenght would you like your password to be: \\n\\n\"))\n",
    "                print()\n",
    "                n_passwords = int(input(\"How many passwords do you need?: \\n\\n\"))\n",
    "                print()#uses error handling in case the value is not a number\n",
    "                print(\"..........................................................\")\n",
    "                print()\n",
    "                print(f\"Ok!, let´s generate {n_passwords} passwords with a lenght of {p_len} characters\")\n",
    "                print()\n",
    "                print(\">>>>>>>>>>>>>>>>>>>>>>>>>>>>>>>>>>>>>>>>>>>>>>>>>>>>>>>GENERATING YOUR PASSWORDS<<<<<<<<<<<<<<<<<<<<<<<<<<<<<<<<<<<<<<<<<<<<<<<<<<<<<<<<<<<\")\n",
    "                print()\n",
    "                password_gen()\n",
    "                disclaimer()\n",
    "                break\n",
    "            elif password_question == \"no\":\n",
    "                print()\n",
    "                print(\"¡OH WHAT A SHAME! \\n \\nWell, good Luck, but be careful, your acounts might get hacked.\")\n",
    "                break\n",
    "            else:\n",
    "                print(\"¡Wrong Answer! Please enter Yes or No!\\n\")\n",
    "                #print()\n",
    "        except ValueError:\n",
    "            continue\n",
    "        "
   ]
  },
  {
   "cell_type": "code",
   "execution_count": 135,
   "metadata": {},
   "outputs": [],
   "source": [
    "def password_gen():\n",
    "    \n",
    "        for x in range(0, n_passwords):\n",
    "            password = \"\"\n",
    "            for x in range(0, p_len):\n",
    "                password_chars = random.choice(encryption)\n",
    "                password = password + password_chars\n",
    "                time.sleep(0.1)\n",
    "            print()\n",
    "            print(f\"Here is your password: {password}\")\n",
    "            print()\n",
    "            print(\"------------------------------------\")\n",
    "            print()"
   ]
  },
  {
   "cell_type": "code",
   "execution_count": 136,
   "metadata": {},
   "outputs": [],
   "source": [
    "def disclaimer():\n",
    "    print(\"*********************************************************** DISCLAIMER ****************************************************************** \\n\\nUse this software at your own risk, we are not liable if all your accounts are hacked.\")"
   ]
  },
  {
   "cell_type": "code",
   "execution_count": null,
   "metadata": {},
   "outputs": [
    {
     "name": "stdout",
     "output_type": "stream",
     "text": [
      "\n",
      "                                                            PASSWORD PROTECTION SOFTWARE                                            \n",
      "\n",
      "                                                 Nine out of ten computer engineers don´t recomend it. \n",
      "\n",
      "*******************************************************************************************************************************************\n",
      "\n"
     ]
    },
    {
     "name": "stdin",
     "output_type": "stream",
     "text": [
      "Do you need a password? Yes/No: \n",
      "\n",
      " yes\n"
     ]
    },
    {
     "name": "stdout",
     "output_type": "stream",
     "text": [
      "\n"
     ]
    },
    {
     "name": "stdin",
     "output_type": "stream",
     "text": [
      "What lenght would you like your password to be: \n",
      "\n",
      " der\n",
      "Do you need a password? Yes/No: \n",
      "\n",
      " yes\n"
     ]
    },
    {
     "name": "stdout",
     "output_type": "stream",
     "text": [
      "\n"
     ]
    },
    {
     "name": "stdin",
     "output_type": "stream",
     "text": [
      "What lenght would you like your password to be: \n",
      "\n",
      " 1.2\n"
     ]
    }
   ],
   "source": [
    "print()\n",
    "print(\"                                                            PASSWORD PROTECTION SOFTWARE                                            \\n\\n                                                 Nine out of ten computer engineers don´t recomend it. \")\n",
    "print()\n",
    "print(\"*******************************************************************************************************************************************\")\n",
    "print()\n",
    "first_question()"
   ]
  },
  {
   "cell_type": "code",
   "execution_count": null,
   "metadata": {},
   "outputs": [],
   "source": []
  },
  {
   "cell_type": "code",
   "execution_count": null,
   "metadata": {},
   "outputs": [],
   "source": []
  }
 ],
 "metadata": {
  "kernelspec": {
   "display_name": "Python 3",
   "language": "python",
   "name": "python3"
  },
  "language_info": {
   "codemirror_mode": {
    "name": "ipython",
    "version": 3
   },
   "file_extension": ".py",
   "mimetype": "text/x-python",
   "name": "python",
   "nbconvert_exporter": "python",
   "pygments_lexer": "ipython3",
   "version": "3.8.5"
  }
 },
 "nbformat": 4,
 "nbformat_minor": 4
}
