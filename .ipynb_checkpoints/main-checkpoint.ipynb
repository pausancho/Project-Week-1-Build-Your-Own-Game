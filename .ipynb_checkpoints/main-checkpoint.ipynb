{
 "cells": [
  {
   "cell_type": "markdown",
   "metadata": {},
   "source": [
    "# Password Protection Software"
   ]
  },
  {
   "cell_type": "markdown",
   "metadata": {},
   "source": [
    "### Welcome to the most secure and trusted password generator software in the world. "
   ]
  },
  {
   "cell_type": "code",
   "execution_count": 148,
   "metadata": {},
   "outputs": [],
   "source": [
    "import random\n",
    "import time"
   ]
  },
  {
   "cell_type": "code",
   "execution_count": 149,
   "metadata": {},
   "outputs": [],
   "source": [
    "encryption= \"abcdefghijklmnopqrstuvwxyzABCDEFGHIJKLMNOPQRSTUVWXYZ123456789@#$%&?¿\""
   ]
  },
  {
   "cell_type": "code",
   "execution_count": 150,
   "metadata": {},
   "outputs": [],
   "source": [
    "def third_question():\n",
    "    global n_passwords\n",
    "    while True: \n",
    "        try:\n",
    "            n_passwords = int(input(\"How many passwords do you need?: \\n\\n\"))\n",
    "            if n_passwords > 0:\n",
    "                print()#uses error handling in case the value is not a number\n",
    "                print(\"..........................................................\\n\")\n",
    "                print(f\"Ok!, let´s generate {n_passwords} passwords with a lenght of {p_len} characters\\n\")\n",
    "                print(\">>>>>>>>>>>>>>>>>>>>>>>>>>>>>>>>>>>>>>>>>>>>>>>>>>>>>>>GENERATING YOUR PASSWORDS<<<<<<<<<<<<<<<<<<<<<<<<<<<<<<<<<<<<<<<<<<<<<<<<<<<<<<<<<<<\\n\")\n",
    "                password_gen()\n",
    "                disclaimer()\n",
    "                break\n",
    "            else:\n",
    "                print()\n",
    "                print(\"Please make sure you enter an integer greather than 0\\n\")\n",
    "        except:\n",
    "            print()\n",
    "            print(\"Please enter a number\\n\")\n",
    "        "
   ]
  },
  {
   "cell_type": "code",
   "execution_count": 151,
   "metadata": {},
   "outputs": [],
   "source": [
    "def second_question():\n",
    "    global p_len\n",
    "    while True:\n",
    "        try:\n",
    "            p_len = int(input(\"What lenght would you like your password to be?: \\n\\n\"))\n",
    "            print()\n",
    "            if p_len > 0:\n",
    "                third_question()\n",
    "                break\n",
    "            else: \n",
    "                print()\n",
    "                print(\"Upss! You must enter an integer greather than 0\\n\")  \n",
    "        except:\n",
    "            print()\n",
    "            print(\"Please enter a number\\n\")"
   ]
  },
  {
   "cell_type": "code",
   "execution_count": 152,
   "metadata": {},
   "outputs": [],
   "source": [
    "def first_question():\n",
    "   \n",
    "    while True:\n",
    "        password_question = input(\"Do you need a password? Yes/No: \\n\\n\").lower()\n",
    "        print()\n",
    "        if password_question == \"yes\":\n",
    "            second_question()\n",
    "        elif password_question == \"no\":\n",
    "            print()\n",
    "            print(\"¡OH WHAT A SHAME! \\n \\nWell, good Luck, but be careful, your acounts might get hacked.\")\n",
    "            break\n",
    "        else:\n",
    "            print(\"¡Wrong Answer! Please enter Yes or No!\\n\")"
   ]
  },
  {
   "cell_type": "code",
   "execution_count": 153,
   "metadata": {},
   "outputs": [],
   "source": [
    "def password_gen():\n",
    "    global n_passwords\n",
    "    for x in range(0, n_passwords):\n",
    "        password = \"\"\n",
    "        for x in range(0, p_len):\n",
    "            password_chars = random.choice(encryption)\n",
    "            password = password + password_chars\n",
    "            time.sleep(0.1)\n",
    "        print()\n",
    "        print(f\"Here is your password: {password}\\n\")\n",
    "        print(\"------------------------------------\\n\")"
   ]
  },
  {
   "cell_type": "code",
   "execution_count": 154,
   "metadata": {},
   "outputs": [],
   "source": [
    "def disclaimer():\n",
    "    print(\"*********************************************************** DISCLAIMER ****************************************************************** \\n\\nUse this software at your own risk, we are not liable if all your accounts are hacked.\")"
   ]
  },
  {
   "cell_type": "code",
   "execution_count": null,
   "metadata": {},
   "outputs": [
    {
     "name": "stdout",
     "output_type": "stream",
     "text": [
      "\n",
      "                                                            PASSWORD PROTECTION SOFTWARE                                            \n",
      "\n",
      "                                                 Nine out of ten computer engineers don´t recomend it. \n",
      "\n",
      "*******************************************************************************************************************************************\n",
      "\n"
     ]
    },
    {
     "name": "stdin",
     "output_type": "stream",
     "text": [
      "Do you need a password? Yes/No: \n",
      "\n",
      " yes\n"
     ]
    },
    {
     "name": "stdout",
     "output_type": "stream",
     "text": [
      "\n"
     ]
    },
    {
     "name": "stdin",
     "output_type": "stream",
     "text": [
      "What lenght would you like your password to be?: \n",
      "\n",
      " 10\n"
     ]
    },
    {
     "name": "stdout",
     "output_type": "stream",
     "text": [
      "\n"
     ]
    },
    {
     "name": "stdin",
     "output_type": "stream",
     "text": [
      "How many passwords do you need?: \n",
      "\n",
      " 0\n"
     ]
    },
    {
     "name": "stdout",
     "output_type": "stream",
     "text": [
      "\n",
      "Please make sure you enter an integer greather than 0\n",
      "\n"
     ]
    },
    {
     "name": "stdin",
     "output_type": "stream",
     "text": [
      "How many passwords do you need?: \n",
      "\n",
      " kjnfdhg\n"
     ]
    },
    {
     "name": "stdout",
     "output_type": "stream",
     "text": [
      "\n",
      "Please enter a number\n",
      "\n"
     ]
    },
    {
     "name": "stdin",
     "output_type": "stream",
     "text": [
      "How many passwords do you need?: \n",
      "\n",
      " \n"
     ]
    },
    {
     "name": "stdout",
     "output_type": "stream",
     "text": [
      "\n",
      "Please enter a number\n",
      "\n"
     ]
    },
    {
     "name": "stdin",
     "output_type": "stream",
     "text": [
      "How many passwords do you need?: \n",
      "\n",
      " 1\n"
     ]
    },
    {
     "name": "stdout",
     "output_type": "stream",
     "text": [
      "\n",
      "..........................................................\n",
      "\n",
      "Ok!, let´s generate 1 passwords with a lenght of 10 characters\n",
      "\n",
      ">>>>>>>>>>>>>>>>>>>>>>>>>>>>>>>>>>>>>>>>>>>>>>>>>>>>>>>GENERATING YOUR PASSWORDS<<<<<<<<<<<<<<<<<<<<<<<<<<<<<<<<<<<<<<<<<<<<<<<<<<<<<<<<<<<\n",
      "\n",
      "\n",
      "Here is your password: Wn1PvwK2Rq\n",
      "\n",
      "------------------------------------\n",
      "\n",
      "*********************************************************** DISCLAIMER ****************************************************************** \n",
      "\n",
      "Use this software at your own risk, we are not liable if all your accounts are hacked.\n"
     ]
    }
   ],
   "source": [
    "print()\n",
    "print(\"                                                            PASSWORD PROTECTION SOFTWARE                                            \\n\\n                                                 Nine out of ten computer engineers don´t recomend it. \")\n",
    "print()\n",
    "print(\"*******************************************************************************************************************************************\")\n",
    "print()\n",
    "first_question()\n"
   ]
  },
  {
   "cell_type": "code",
   "execution_count": null,
   "metadata": {},
   "outputs": [],
   "source": []
  },
  {
   "cell_type": "code",
   "execution_count": null,
   "metadata": {},
   "outputs": [],
   "source": []
  }
 ],
 "metadata": {
  "kernelspec": {
   "display_name": "Python 3",
   "language": "python",
   "name": "python3"
  },
  "language_info": {
   "codemirror_mode": {
    "name": "ipython",
    "version": 3
   },
   "file_extension": ".py",
   "mimetype": "text/x-python",
   "name": "python",
   "nbconvert_exporter": "python",
   "pygments_lexer": "ipython3",
   "version": "3.8.5"
  }
 },
 "nbformat": 4,
 "nbformat_minor": 4
}
