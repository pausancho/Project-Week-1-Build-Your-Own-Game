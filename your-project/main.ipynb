{
 "cells": [
  {
   "cell_type": "markdown",
   "metadata": {},
   "source": [
    "<h1><center>Password Generator Software</center></h1>\n",
    "<h4><center>Welcome to the most secure and trusted password generator software in the world.</center></h4>"
   ]
  },
  {
   "cell_type": "markdown",
   "metadata": {},
   "source": [
    "___________\n",
    "\n",
    "<h2><center>Workflow and Rules</center></h2>\n",
    "\n",
    "\n",
    "### Workflow\n",
    "\n",
    ">The system will greet the user and request to answer the questions that will be used to generate the password/s.\n",
    ">\n",
    ">>The user is asked if they want to create a password, if yes, then they have to provide the length of the password and finally the number of passwords they need. \n",
    ">>\n",
    ">>>Once the user answers all the questions the software will compute the information and will print the password/s on the screen. \n",
    ">>>\n",
    ">>>>Finally, the user can copy-paste this password/s and use it as need it \n",
    "\n",
    "\n",
    "### Rules\n",
    "\n",
    "1 - The user must answer all the questions in order to get the password/s.\n",
    "\n",
    "2- If the user does not provide the correct information the system will let them know and it will continue to request for the right input.  "
   ]
  },
  {
   "cell_type": "markdown",
   "metadata": {},
   "source": [
    "<h2><center>Challenges and Learnings</center></h2>\n",
    "\n",
    "#### Challenges you encountered during the process\n",
    "\n",
    "* Working with the while loop, making sure it breaks as expected. \n",
    "\n",
    "#### Learnings \n",
    "\n",
    "* I was able to improve my knowledge on loops and Error handling.*\n",
    "\n",
    "#### Possible future improvements\n",
    "\n",
    "* Instead of having a single variable with the chars to create the passwords, use multiple variables one with lower letters, another with capital letters... then generate a password selecting n values from each of the variables based on the user input. "
   ]
  },
  {
   "cell_type": "markdown",
   "metadata": {},
   "source": [
    "<h2><center>Game Demo</center></h2>\n"
   ]
  },
  {
   "cell_type": "code",
   "execution_count": 1,
   "metadata": {},
   "outputs": [],
   "source": [
    "import random\n",
    "import time"
   ]
  },
  {
   "cell_type": "code",
   "execution_count": 2,
   "metadata": {},
   "outputs": [],
   "source": [
    " encryption = \"abcdefghijklmnopqrstuvwxyzABCDEFGHIJKLMNOPQRSTUVWXYZ123456789@#$%&?¿\""
   ]
  },
  {
   "cell_type": "code",
   "execution_count": 3,
   "metadata": {},
   "outputs": [],
   "source": [
    "def third_question():\n",
    "    global n_passwords\n",
    "    while True: \n",
    "        try:\n",
    "            n_passwords = int(input(\"How many passwords do you need?: \\n\\n\"))\n",
    "            if n_passwords > 0:\n",
    "                print()#uses error handling in case the value is not a number\n",
    "                print(\".............................................................\\n\")\n",
    "                print(f\"Ok!, let´s generate {n_passwords} passwords with a lenght of {p_len} characters\\n\")\n",
    "                print(\">>>>>>>>>>>>>>>>>>>>>>>>>>>>>>>>>>>>>>>>>>>>>>>>>>>>>>>GENERATING YOUR PASSWORDS<<<<<<<<<<<<<<<<<<<<<<<<<<<<<<<<<<<<<<<<<<<<<<<<<<<<<<\\n\")\n",
    "                password_gen()\n",
    "                more_passwords()\n",
    "                break\n",
    "            else:\n",
    "                print()\n",
    "                print(\"Please make sure you enter an integer greather than 0\\n\")\n",
    "        except:\n",
    "            print()\n",
    "            print(\"Please enter a number\\n\")\n",
    "        "
   ]
  },
  {
   "cell_type": "code",
   "execution_count": 4,
   "metadata": {},
   "outputs": [],
   "source": [
    "def second_question():\n",
    "    global p_len\n",
    "    while True:\n",
    "        try:\n",
    "            p_len = int(input(\"What lenght would you like your password to be?: \\n\\n\"))\n",
    "            print()\n",
    "            if p_len > 0:\n",
    "                third_question()\n",
    "                break\n",
    "            else: \n",
    "                print()\n",
    "                print(\"Upss! You must enter an integer greather than 0\\n\")  \n",
    "        except:\n",
    "            print()\n",
    "            print(\"Please enter a number\\n\")"
   ]
  },
  {
   "cell_type": "code",
   "execution_count": 5,
   "metadata": {},
   "outputs": [],
   "source": [
    "def initialize():\n",
    "\n",
    "    print(\"                                                            PASSWORD GENERATION SOFTWARE                                            \\n\\n                                                 Nine out of ten computer engineers don´t recomend it. \")\n",
    "    print()\n",
    "    print(\"*******************************************************************************************************************************************\")\n",
    "    print()\n",
    "    print(\"Welcome to the Password Generator Software, please answer the following questions if you want to generate extremely secure password/s.\\n\\n\")\n",
    "\n",
    "   \n",
    "    while True:\n",
    "        password_question = input(\"Do you need a password? Yes/No: \\n\\n\").lower()\n",
    "        print()\n",
    "        if password_question == \"yes\":\n",
    "            second_question()\n",
    "            break\n",
    "        elif password_question == \"no\":\n",
    "            print()\n",
    "            print(\"¡OH WHAT A SHAME! \\n \\nWell, good Luck, but be careful, your acounts might get hacked.\")\n",
    "            break\n",
    "        else:\n",
    "            print(\"¡Wrong Answer! Please enter Yes or No!\\n\")"
   ]
  },
  {
   "cell_type": "code",
   "execution_count": 6,
   "metadata": {},
   "outputs": [],
   "source": [
    "def password_gen():\n",
    "    global n_passwords\n",
    "    for x in range(0, n_passwords):\n",
    "        password = \"\"\n",
    "        for x in range(0, p_len):\n",
    "            password_chars = random.choice(encryption)\n",
    "            password = password + password_chars\n",
    "            time.sleep(0.1)\n",
    "        print()\n",
    "        print(f\"Here is your password: {password}\\n\")\n",
    "        print(\"------------------------------------\\n\")"
   ]
  },
  {
   "cell_type": "code",
   "execution_count": 7,
   "metadata": {},
   "outputs": [],
   "source": [
    "def more_passwords():\n",
    "    while True:\n",
    "        more_pass = input(\"Do you want to generate more passwords? Yes/No: \").lower()\n",
    "        print()\n",
    "        if more_pass == \"yes\":\n",
    "            second_question()\n",
    "            break\n",
    "        else:\n",
    "            print(\"Thank you for using the Password Generator Software.\\nWe hope all your accounts are safe with our passwords.\\n\")\n",
    "            disclaimer()\n",
    "            break"
   ]
  },
  {
   "cell_type": "code",
   "execution_count": 8,
   "metadata": {},
   "outputs": [],
   "source": [
    "def disclaimer(): \n",
    "        print(\"******************************************************** DISCLAIMER ****************************************************************** \\n\\nUse this software at your own risk, we are not liable if all your accounts are hacked.\")     "
   ]
  },
  {
   "cell_type": "code",
   "execution_count": null,
   "metadata": {},
   "outputs": [],
   "source": []
  },
  {
   "cell_type": "code",
   "execution_count": null,
   "metadata": {},
   "outputs": [],
   "source": []
  }
 ],
 "metadata": {
  "kernelspec": {
   "display_name": "Python 3",
   "language": "python",
   "name": "python3"
  },
  "language_info": {
   "codemirror_mode": {
    "name": "ipython",
    "version": 3
   },
   "file_extension": ".py",
   "mimetype": "text/x-python",
   "name": "python",
   "nbconvert_exporter": "python",
   "pygments_lexer": "ipython3",
   "version": "3.8.5"
  }
 },
 "nbformat": 4,
 "nbformat_minor": 4
}
