{
 "cells": [
  {
   "cell_type": "markdown",
   "metadata": {},
   "source": [
    "# Password Protection Software"
   ]
  },
  {
   "cell_type": "markdown",
   "metadata": {},
   "source": [
    "### Welcome to the most secure and trusted password generator software in the world. "
   ]
  },
  {
   "cell_type": "code",
   "execution_count": 1,
   "metadata": {},
   "outputs": [],
   "source": [
    "import random"
   ]
  },
  {
   "cell_type": "code",
   "execution_count": 2,
   "metadata": {},
   "outputs": [],
   "source": [
    "encryption= \"abcdefghijklmnopqrstuvwxyzABCDEFGHIJKLMNOPQRSTUVWXYZ123456789@#$%&?¿\""
   ]
  },
  {
   "cell_type": "code",
   "execution_count": 13,
   "metadata": {},
   "outputs": [],
   "source": [
    "def first_question():\n",
    "   \n",
    "    while True:\n",
    "        password_question = input(\"Do you need a password? Yes/No: \").lower()\n",
    "        print()\n",
    "        if password_question == \"yes\":\n",
    "            global p_len\n",
    "            global n_passwords\n",
    "            p_len = int(input(\"What lenght would you like your password to be: \"))\n",
    "            print()\n",
    "            n_passwords = int(input(\"How many passwords do you need?: \"))\n",
    "            print()#uses error handling in case the value is not a number\n",
    "            print(\"******************************\")\n",
    "            print()\n",
    "            password_gen()\n",
    "            break\n",
    "        elif password_question != \"yes\":\n",
    "            print()\n",
    "            print(\"¡OH WHAT A SHAME! \\n \\nWell, good Luck, but be careful, your acounts might get hacked.\")\n",
    "            break"
   ]
  },
  {
   "cell_type": "code",
   "execution_count": 14,
   "metadata": {},
   "outputs": [],
   "source": [
    "def password_gen():\n",
    "    \n",
    "        for x in range(0, n_passwords):\n",
    "            password = \"\"\n",
    "            for x in range(0, p_len):\n",
    "                password_chars = random.choice(encryption)\n",
    "                password = password + password_chars\n",
    "            print(f\"Here is your password with: {password}\")\n",
    "            print()\n",
    "            print(\"<><><><><><><><><><><><><><><><><><>\")\n",
    "            print()"
   ]
  },
  {
   "cell_type": "code",
   "execution_count": 6,
   "metadata": {},
   "outputs": [
    {
     "name": "stdout",
     "output_type": "stream",
     "text": [
      "2\n"
     ]
    }
   ],
   "source": [
    "print(n_passwords)"
   ]
  },
  {
   "cell_type": "code",
   "execution_count": null,
   "metadata": {},
   "outputs": [
    {
     "name": "stdout",
     "output_type": "stream",
     "text": [
      "Password Protection Software\n",
      "\n"
     ]
    },
    {
     "name": "stdin",
     "output_type": "stream",
     "text": [
      "Do you need a password? Yes/No:  yes\n"
     ]
    },
    {
     "name": "stdout",
     "output_type": "stream",
     "text": [
      "\n"
     ]
    }
   ],
   "source": [
    "print(\"PASSWORD PROTECTION SOFTWARE\")\n",
    "print\n",
    "print()\n",
    "first_question()"
   ]
  },
  {
   "cell_type": "code",
   "execution_count": null,
   "metadata": {},
   "outputs": [],
   "source": []
  },
  {
   "cell_type": "code",
   "execution_count": null,
   "metadata": {},
   "outputs": [],
   "source": []
  },
  {
   "cell_type": "code",
   "execution_count": null,
   "metadata": {},
   "outputs": [],
   "source": []
  },
  {
   "cell_type": "markdown",
   "metadata": {},
   "source": [
    "#### Disclaimer\n",
    "\n",
    "*Use this software at your own risk, we are not liable if all your accounts are hacked.*"
   ]
  }
 ],
 "metadata": {
  "kernelspec": {
   "display_name": "Python 3",
   "language": "python",
   "name": "python3"
  },
  "language_info": {
   "codemirror_mode": {
    "name": "ipython",
    "version": 3
   },
   "file_extension": ".py",
   "mimetype": "text/x-python",
   "name": "python",
   "nbconvert_exporter": "python",
   "pygments_lexer": "ipython3",
   "version": "3.8.5"
  }
 },
 "nbformat": 4,
 "nbformat_minor": 4
}
